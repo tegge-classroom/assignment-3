{
 "cells": [
  {
   "cell_type": "code",
   "execution_count": null,
   "metadata": {
    "collapsed": true
   },
   "outputs": [],
   "source": [
    "# Assignment 3\n",
    "# Introduction to functions\n",
    "# Due at 8am on February 27, 2018\n",
    "\n",
    "# Notes about assignment:\n",
    "# - To ensure good commenting practice, one point from each\n",
    "# question will be awarded for sufficient comments.\n",
    "# - Example input data is provided, however, the functions\n",
    "# should be made flexible to handle alternative data. For example,\n",
    "# lists with more or fewer elements.\n",
    "# - All questions in this assignment need to be divided up between\n",
    "# the two partners. Ensure that the total points for each partner\n",
    "# add up to the same value.\n",
    "# - All partners need to participate in question 17.\n"
   ]
  },
  {
   "cell_type": "code",
   "execution_count": null,
   "metadata": {
    "collapsed": true
   },
   "outputs": [],
   "source": [
    "# Question 1: (2 points)\n",
    "# create a function called \"shift_list\" that\n",
    "# that takes one argument, a list of numbers.\n",
    "# this function will add 3 to each element in a list.\n",
    "\n",
    "\n",
    "# example data to use\n",
    "data = [1,6,7,6,2,4,5,3]    \n",
    "# call function\n",
    "shift_list(data)\n",
    "\n"
   ]
  },
  {
   "cell_type": "code",
   "execution_count": null,
   "metadata": {
    "collapsed": true
   },
   "outputs": [],
   "source": [
    "# Question 2: (2 points)\n",
    "# create a function called \"truncate_list\" that\n",
    "# that takes one argument, a list of strings.\n",
    "# this function will truncate all elements in \n",
    "# the list by 3 characters\n",
    "\n",
    "\n",
    "# example data to use\n",
    "countries = ['Canada','United States','Spain','Germany','Brazil','China']\n",
    "# call function\n",
    "truncate_list(countries)\n"
   ]
  },
  {
   "cell_type": "code",
   "execution_count": null,
   "metadata": {
    "collapsed": true
   },
   "outputs": [],
   "source": [
    "# Question 3: (2 points)\n",
    "# create a function called \"is_even_length_dict\" that\n",
    "# that takes one argument, a dictionary.\n",
    "# this function will return True if the number of keys in the dictionary  \n",
    "# is even and return False if the number of keys in the dictionary is odd.\n",
    "\n",
    "\n",
    "# example data to use\n",
    "data_dict = {'Age':[77,56,34,45,52,61],\n",
    "             'BMI':[22,25,28,26,21,24],\n",
    "             'Height':[65,72,68,65,61,69]}\n",
    "# call function\n",
    "is_even_length_dict(data_dict)\n"
   ]
  },
  {
   "cell_type": "code",
   "execution_count": null,
   "metadata": {
    "collapsed": true
   },
   "outputs": [],
   "source": [
    "# Question 4: (2 points)\n",
    "# create a function called \"is_even_length_list\" that\n",
    "# that takes one argument, a list.\n",
    "# this function will return True if the length of the list  \n",
    "# is even and return False if the length of the list is odd.\n",
    "\n",
    "\n",
    "# example data to use\n",
    "data = [1,6,7,6,2,4,5,3]    \n",
    "# call function\n",
    "is_even_length_list(data)\n",
    "\n"
   ]
  },
  {
   "cell_type": "code",
   "execution_count": null,
   "metadata": {
    "collapsed": true
   },
   "outputs": [],
   "source": [
    "# Question 5: (5 points)\n",
    "# create a function called \"average_dict\" that\n",
    "# that takes one argument, a dictionary where the\n",
    "# keys are variable names and the values are lists of numbers.\n",
    "# this function will print the key, and the average of the values\n",
    "# for that key, respectively.\n",
    "\n",
    "\n",
    "# example data to use\n",
    "data_dict = {'Age':[77,56,34,45,52,61],\n",
    "             'BMI':[22,25,28,26,21,24],\n",
    "             'Height':[65,72,68,65,61,69]}\n",
    "# call function\n",
    "average_dict(data_dict)\n"
   ]
  },
  {
   "cell_type": "code",
   "execution_count": null,
   "metadata": {
    "collapsed": true
   },
   "outputs": [],
   "source": [
    "# Question 6: (5 points)\n",
    "# create a function called \"range_dict\" that\n",
    "# that takes one argument, a dictionary where the\n",
    "# keys are variable names and the values are lists of numbers.\n",
    "# this function will print the key, and the range (maximum - minimum) \n",
    "# of the values for each key, respectively.\n",
    "\n",
    "\n",
    "\n",
    "# example data to use\n",
    "data_dict = {'Age':[77,56,34,45,52,61],\n",
    "             'BMI':[22,25,28,26,21,24],\n",
    "             'Height':[65,72,68,65,61,69]}\n",
    "# call function\n",
    "range_dict(data_dict)\n"
   ]
  },
  {
   "cell_type": "code",
   "execution_count": null,
   "metadata": {
    "collapsed": true
   },
   "outputs": [],
   "source": [
    "# Question 7: (5 points)\n",
    "# create a function called \"frequency_list\" that\n",
    "# that takes one argument, a list of strings.\n",
    "# this function will identify the unique strings in \n",
    "# the list and count the frequency of that element in \n",
    "# the list. frequency_list will return a dictionary\n",
    "# such that the key = string and the value = frequency\n",
    "\n",
    "\n",
    "# example data to use\n",
    "factor_list = ['A','B','A','D','C','E','E','D','C','D',\n",
    "               'C','B','E','D','F','G','E','D','F','C',\n",
    "               'G','C','C','F']\n",
    "\n",
    "# call function\n",
    "factor_frequency = frequency_list(factor_list)\n"
   ]
  },
  {
   "cell_type": "code",
   "execution_count": null,
   "metadata": {
    "collapsed": true
   },
   "outputs": [],
   "source": [
    "# Question 8: (5 points)\n",
    "# create a function called \"make_factor_values_dict\" that\n",
    "# that takes two arguments, a list of factors and a list of values.\n",
    "# this function will identify the unique strings in \n",
    "# the list of factors as keys. For each key, a list of values \n",
    "# corresponding to the factor level will be assigned.\n",
    "# make_factor_values_dict will return a dictionary\n",
    "# such that the key = string and the value = list of values\n",
    "\n",
    "\n",
    "# example data to use\n",
    "factor_list = ['A','B','A','D','C','E','E','D','C','D',\n",
    "               'C','B','E','D','F','G','E','D','F','C',\n",
    "               'G','C','C','F']\n",
    "values_list = [19,61,75,66,28,43,52,35,66,86,44,56,1,93,27,47,28,20,12,73,44,32,75,10] \n",
    "# call function\n",
    "factor_values = make_factor_values_dict(factor_list, values_list)\n"
   ]
  },
  {
   "cell_type": "code",
   "execution_count": null,
   "metadata": {
    "collapsed": true
   },
   "outputs": [],
   "source": [
    "# Question 9: (6 points)\n",
    "# create a function called \"quartiles_list\" that\n",
    "# takes one argument, a list of numbers.\n",
    "# this function will summarize the elements in \n",
    "# the list by printing the quartiles (Q1, Q2, Q3)\n",
    "\n",
    "\n",
    "# example data to use\n",
    "data = [19,61,75,66,28,43,52,35,66,86,44,56,1,93,27,47,28,20,12,73,44] \n",
    "# call function\n",
    "quartiles_list(data)\n"
   ]
  },
  {
   "cell_type": "code",
   "execution_count": null,
   "metadata": {
    "collapsed": true
   },
   "outputs": [],
   "source": [
    "# Question 10: (6 points)\n",
    "# create a function called \"percentile_list\" that\n",
    "# takes one argument, a list of numbers.\n",
    "# this function will summarize the elements in \n",
    "# the list by printing the percentiles (20%, 40%, 60%, 80%)\n",
    "\n",
    "\n",
    "# example data to use\n",
    "data = [19,61,75,66,28,43,52,35,66,86,44,56,1,93,27,47,28,20,12,73,44] \n",
    "# call function\n",
    "percentile_list(data)\n"
   ]
  },
  {
   "cell_type": "code",
   "execution_count": null,
   "metadata": {
    "collapsed": true
   },
   "outputs": [],
   "source": [
    "# Question 11: (8 points)\n",
    "# create a function called \"center_list\" that\n",
    "# takes one required argument, a list of numbers\n",
    "# and an optional argument, a number to center on.\n",
    "# this function will return a list that has moved all values such that the\n",
    "# mean of the elements is either 0 (Zero) if no option is\n",
    "# provided or the value provided as an optional argument.\n",
    "\n",
    "\n",
    "# example data to use\n",
    "data = [19,61,75,66,28,43,52,35,66,86,44,56,1,93,27,47,28,20,12,73,44] \n",
    "# call function\n",
    "center_list(data)\n",
    "center_list(data, center=5)"
   ]
  },
  {
   "cell_type": "code",
   "execution_count": null,
   "metadata": {
    "collapsed": true
   },
   "outputs": [],
   "source": [
    "# Question 12: (8 points)\n",
    "# create a function called \"scale_list\" that\n",
    "# takes one required argument, a list of numbers\n",
    "# and an optional argument, a maximum value for the range.\n",
    "# this function will return a list that has moved all values such that the\n",
    "# range of the elements is either 1 (Zero through one) if no option is\n",
    "# provided or the range is zero through the value provided \n",
    "# as an optional argument.\n",
    "\n",
    "\n",
    "# example data to use\n",
    "data = [19,61,75,66,28,43,52,35,66,86,44,56,1,93,27,47,28,20,12,73,44] \n",
    "# call function\n",
    "scale_list(data)\n",
    "scale_list(data, max_range=5)"
   ]
  },
  {
   "cell_type": "code",
   "execution_count": null,
   "metadata": {
    "collapsed": true
   },
   "outputs": [],
   "source": [
    "# Question 13: (8 points)\n",
    "# create a function called \"summarize_list\" that\n",
    "# that takes one argument, a list of numbers and one optional\n",
    "# arguement \"verbose\", where if True the summary stats will \n",
    "# be print to screen.  the summary stats of interest are \n",
    "# the min, max, and mean. this function will return all\n",
    "# three values.\n",
    " \n",
    "\n",
    "\n",
    "# example data to use\n",
    "data = [19,61,75,66,28,43,52,35,66,86,44,56,1,93,27,47,28,20,12,73,44] \n",
    "# call function\n",
    "minval, maxval, meanval = summarize_list(data)\n",
    "minval, maxval, meanval = summarize_list(data, verbose=True)\n"
   ]
  },
  {
   "cell_type": "code",
   "execution_count": null,
   "metadata": {
    "collapsed": true
   },
   "outputs": [],
   "source": [
    "# Question 14: (8 points)\n",
    "# create a function called \"compute_quartiles\" that\n",
    "# that takes one argument, a list of numbers and one optional\n",
    "# arguement \"verbose\", where if True the summary stats will \n",
    "# be print to screen.  the quartiles of interest are \n",
    "# Q1, Q2 an Q3. this function will return all\n",
    "# three values.\n",
    " \n",
    "\n",
    "\n",
    "# example data to use\n",
    "data = [19,61,75,66,28,43,52,35,66,86,44,56,1,93,27,47,28,20,12,73,44] \n",
    "# call function\n",
    "q1, q2, q3 = compute_quartiles(data)\n",
    "q1, q2, q3 = compute_quartiles(data, verbose=True)\n"
   ]
  },
  {
   "cell_type": "code",
   "execution_count": null,
   "metadata": {
    "collapsed": true
   },
   "outputs": [],
   "source": [
    "# Question 15: (10 points)\n",
    "# create a function called \"scale_subset_list\" that\n",
    "# that takes two argument, a list of factors and a list of values\n",
    "# and an optional argument 'include', a set containing the factors to be scaled.\n",
    "# if no set is provided, all factors will be included.\n",
    "# this function will for each factor level scale the values corresponding\n",
    "# to the factor to a range of zero through one. The scaled values for\n",
    "# each factor of interest will be summrized (min,max,mean) and print to screen.\n",
    "# two lists, one containing the centered values and one containing the factors \n",
    "# for the factor levels of interest will be returned.\n",
    "\n",
    "\n",
    "# example data to use\n",
    "factor_list = ['A','B','A','D','C','E','E','D','C','D',\n",
    "               'C','B','E','D','F','G','E','D','F','C',\n",
    "               'G','C','C','F']\n",
    "values_list = [19,61,75,66,28,43,52,35,66,86,44,56,1,93,27,47,28,20,12,73,44,32,75,10] \n",
    "# call function\n",
    "scale_subset_list(values_list, factor_list)\n",
    "scale_values, subset_factors = scale_subset_list(values_list, factor_list, include=set(['A','B','C']))\n"
   ]
  },
  {
   "cell_type": "code",
   "execution_count": null,
   "metadata": {
    "collapsed": true
   },
   "outputs": [],
   "source": [
    "# Question 16: (10 points)\n",
    "# create a function called \"center_subset_list\" that\n",
    "# that takes two argument, a list of factors and a list of values\n",
    "# and an optional argument 'include', a set containing the factors to be centered.\n",
    "# if no set is provided, all factors will be included.\n",
    "# this function will for each factor level center the values corresponding\n",
    "# to the factor to zero. The scaled values for\n",
    "# each factor of interest will be summrized (min,max,mean) and print to screen. \n",
    "# two lists, one containing the centered values and one containing the factors\n",
    "#for the factor levels of interest will be returned.\n",
    "\n",
    "\n",
    "# example data to use\n",
    "factor_list = ['A','B','A','D','C','E','E','D','C','D',\n",
    "               'C','B','E','D','F','G','E','D','F','C',\n",
    "               'G','C','C','F']\n",
    "values_list = [19,61,75,66,28,43,52,35,66,86,44,56,1,93,27,47,28,20,12,73,44,32,75,10] \n",
    "# call function\n",
    "center_subset_list(values_list, factor_list)\n",
    "subset_values, subset_factors = center_subset_list(values_list, factor_list, include=set(['A','B','C']))\n"
   ]
  },
  {
   "cell_type": "code",
   "execution_count": null,
   "metadata": {
    "collapsed": true
   },
   "outputs": [],
   "source": [
    "# Question 17: (15 points) (both partners must participate)\n",
    "\n",
    "# 1. Create a group repository for the class project\n",
    "# 2. Add partner and instructor (@ategge) to the repository\n",
    "# 3. Decide on two complementary data sets to use in the project. \n",
    "#    Data sets are complimentary if they contain different information\n",
    "#    but have one column in common between the two data sets. For example,\n",
    "#    a data set on city crime rates and another data set on city census information.\n",
    "# 4. Create a Readme file (can be done automatically when publishing repo)\n",
    "#    that describes the data sets selected and the hypotheses/research questions\n",
    "#    to ask of the data.\n",
    "# 5. Both partners must make commits (with informative messages) to this repository\n",
    "#    prior to the homework deadline.\n",
    "# 6. Begin outlining the work required to complete the project and start assigning\n",
    "#    different tasks to each partner.\n",
    "# 7. Include the link to the repository below.\n"
   ]
  }
 ],
 "metadata": {
  "kernelspec": {
   "display_name": "Python 2",
   "language": "python",
   "name": "python2"
  },
  "language_info": {
   "codemirror_mode": {
    "name": "ipython",
    "version": 2
   },
   "file_extension": ".py",
   "mimetype": "text/x-python",
   "name": "python",
   "nbconvert_exporter": "python",
   "pygments_lexer": "ipython2",
   "version": "2.7.14"
  }
 },
 "nbformat": 4,
 "nbformat_minor": 2
}
